{
 "cells": [
  {
   "cell_type": "code",
   "execution_count": 1,
   "metadata": {},
   "outputs": [],
   "source": [
    "#imports\n",
    "import pandas as pd\n",
    "import numpy as np"
   ]
  },
  {
   "cell_type": "code",
   "execution_count": null,
   "metadata": {},
   "outputs": [],
   "source": [
    "''' Tratamento dos dados:\n",
    "    - Ratings possui as interações usuário-item\n",
    "    - Targets possui os dados para qual precisamos prever os resultados\n",
    "'''\n",
    "\n",
    "# Ler o arquivo CSV original para um DataFrame\n",
    "df_ratings_original = pd.read_csv('ratings.csv', sep=',', header=0, names=[\"UserId:ItemId\", \"Rating\"])\n",
    "df_ratings_original.head()\n",
    "\n",
    "# Dividir a coluna \"UserId:ItemId\" em duas colunas separadas usando \":\"\n",
    "df_ratings_split = df_ratings_original[\"UserId:ItemId\"].str.split(\":\", expand=True)\n",
    "df_ratings_split.columns = [\"UserId\", \"ItemId\"]\n",
    "\n",
    "# Concatenar as colunas divididas com a coluna \"Rating\" em um novo DataFrame\n",
    "df_ratings = pd.concat([df_ratings_split, df_ratings_original[\"Rating\"]], axis=1)\n",
    "\n",
    "\n",
    "# Ler o arquivo CSV targets.csv para df_targets_original\n",
    "df_targets = pd.read_csv('targets.csv', sep=':', header=0, names=[\"UserId\",\"ItemId\"])\n",
    "\n",
    "#Adicionar a coluna \"Rating\" ao DataFrame df_targets_original\n",
    "df_targets[\"Rating\"] = 0"
   ]
  },
  {
   "cell_type": "code",
   "execution_count": null,
   "metadata": {},
   "outputs": [],
   "source": [
    "#Para um usuário/item no dataframe targets, calcula o rating previsto usando a função SGD\n",
    "\n",
    "def predict_rating(user, item, P, Q, user_index, item_index):\n",
    "    if user in user_index and item in item_index:\n",
    "        result = np.dot(P[user_index[user]], Q[item_index[item]].T)\n",
    "        if result > 5:\n",
    "            result = 5\n",
    "        elif result < 1:\n",
    "            result = 1\n",
    "        return result"
   ]
  },
  {
   "cell_type": "code",
   "execution_count": null,
   "metadata": {},
   "outputs": [],
   "source": [
    "#Para cada usuário/item no dataframe targets, calcula o rating previsto usando a função SGD\n",
    "def predict_all_ratings(df_targets, P, Q, user_index, item_index):\n",
    "    df_targets[\"Rating\"] = df_targets.apply(lambda x: predict_rating(x[\"UserId\"], x[\"ItemId\"], P, Q, user_index, item_index), axis=1)\n",
    "    return df_targets"
   ]
  },
  {
   "cell_type": "code",
   "execution_count": null,
   "metadata": {},
   "outputs": [],
   "source": [
    "''' SGD (Stochastic gradient descent)\n",
    "    - S é o dataframe que armazena os ratings de treino\n",
    "    - k é o tamanho dos vetores latentes \n",
    "    - alpha é a taxa de aprendizado\n",
    "    - lamb é a variável de regularização\n",
    "    - epochs é o número de épocas usadas no algoritmo\n",
    "'''\n",
    "\n",
    "\n",
    "def SGD(S, k=18, alpha=0.01, lamb=0.02, epochs=10):\n",
    "\n",
    "    #Contar o numero de usuarios e itens unicos\n",
    "    n_users = S[\"UserId\"].nunique()\n",
    "    n_items = S[\"ItemId\"].nunique()\n",
    "\n",
    "    #Criar um dicionario para mapear os usuarios e itens\n",
    "    user_index = {original: new for new, original in enumerate(S[\"UserId\"].unique())}\n",
    "    item_index = {original: new for new, original in enumerate(S[\"ItemId\"].unique())}\n",
    "\n",
    "    np.random.seed(15)\n",
    "\n",
    "    # Inicializar os vetores de usuário e item com valores aleatórios\n",
    "    P = np.random.rand(n_users, k)\n",
    "    Q = np.random.rand(n_items, k)\n",
    "\n",
    "    SList = S[[\"UserId\", \"ItemId\", \"Rating\"]].values\n",
    "    \n",
    "    for epoch in range(epochs):\n",
    "\n",
    "        erroraccum = 0\n",
    "        count = 0\n",
    "        #np.random.shuffle(SList)\n",
    "\n",
    "        for user, item, rating in SList:\n",
    "            i = user_index[user]\n",
    "            j = item_index[item]\n",
    "            error = rating - np.dot(P[i, :], Q[j, :].T)\n",
    "\n",
    "            for l in range(k):\n",
    "                Pnew = error * Q[j,l]\n",
    "                Qnew = error * P[i,l]\n",
    "                P[i,l] += alpha * (Pnew - lamb * P[i,l])\n",
    "                Q[j,l] += alpha * (Qnew - lamb * Q[j,l])\n",
    "            \n",
    "            erroraccum += error**2\n",
    "            count +=1\n",
    "        \n",
    "        mse = erroraccum / count\n",
    "        print(\"Epoch: \" + str(epoch+1) + \" Error: \" + str(np.sqrt(mse)))\n",
    "\n",
    "    \n",
    "    return P, Q, user_index, item_index\n"
   ]
  },
  {
   "cell_type": "code",
   "execution_count": null,
   "metadata": {},
   "outputs": [
    {
     "name": "stdout",
     "output_type": "stream",
     "text": [
      "Epoch: 1 Error: 1.4583975837562\n",
      "Epoch: 2 Error: 1.2621144276082301\n",
      "Epoch: 3 Error: 1.138456201361276\n",
      "Epoch: 4 Error: 1.043195966984619\n",
      "Epoch: 5 Error: 0.9648282598790486\n",
      "Epoch: 6 Error: 0.8979523248513906\n",
      "Epoch: 7 Error: 0.8394939974049314\n",
      "Epoch: 8 Error: 0.7875115111015171\n",
      "Epoch: 9 Error: 0.7406952133006728\n",
      "Epoch: 10 Error: 0.69812076711483\n"
     ]
    }
   ],
   "source": [
    "#Execução do algoritmo\n",
    "#Executa o algoritmo SGD para os ratings de treino\n",
    "P, Q, user_index, item_index = SGD(df_ratings)"
   ]
  },
  {
   "cell_type": "code",
   "execution_count": null,
   "metadata": {},
   "outputs": [],
   "source": [
    "#Calcula os ratings previstos para os ratings de teste\n",
    "df_targets = predict_all_ratings(df_targets, P, Q, user_index, item_index)"
   ]
  },
  {
   "cell_type": "code",
   "execution_count": null,
   "metadata": {},
   "outputs": [],
   "source": [
    "#Juntar UserId e ItemId e Rating em uma coluna para gerar o arquivo de submissão final da forma UserId:ItemId,Rating\n",
    "df_targets[\"UserId:ItemId\"] = df_targets[\"UserId\"].astype(str) + \":\" + df_targets[\"ItemId\"].astype(str)\n",
    "df_targets = df_targets[[\"UserId:ItemId\", \"Rating\"]]\n"
   ]
  },
  {
   "cell_type": "code",
   "execution_count": null,
   "metadata": {},
   "outputs": [],
   "source": [
    "#Gerar arquivo csv para submissão com UserId:ItemId,Rating na primeira linha e os ratings previstos nas linhas seguintes\n",
    "\n",
    "df_targets.to_csv(\"submission.csv\", index=False, header=False)\n",
    "\n",
    "#Adicionar UserId:ItemId,Rating na primeira linha do arquivo submission.csv\n",
    "with open('submission.csv', 'r') as original: data = original.read()\n",
    "with open('submission.csv', 'w') as modified: modified.write(\"UserId:ItemId,Rating\\n\" + data)\n"
   ]
  },
  {
   "cell_type": "code",
   "execution_count": null,
   "metadata": {},
   "outputs": [],
   "source": [
    "#importar o df resultados.csv para um dataframe e ordenar por numberNodes\n",
    "df_results = pd.read_csv('resultados.csv', sep=',', header=0)\n",
    "df_results.sort_values(by=['numberNodes'], inplace=True)\n",
    "\n",
    "df_results.head()"
   ]
  }
 ],
 "metadata": {
  "kernelspec": {
   "display_name": "Python 3",
   "language": "python",
   "name": "python3"
  },
  "language_info": {
   "codemirror_mode": {
    "name": "ipython",
    "version": 3
   },
   "file_extension": ".py",
   "mimetype": "text/x-python",
   "name": "python",
   "nbconvert_exporter": "python",
   "pygments_lexer": "ipython3",
   "version": "3.11.2"
  },
  "orig_nbformat": 4
 },
 "nbformat": 4,
 "nbformat_minor": 2
}
